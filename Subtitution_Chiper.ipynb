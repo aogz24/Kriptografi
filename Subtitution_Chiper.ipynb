{
  "nbformat": 4,
  "nbformat_minor": 0,
  "metadata": {
    "colab": {
      "provenance": []
    },
    "kernelspec": {
      "name": "python3",
      "display_name": "Python 3"
    },
    "language_info": {
      "name": "python"
    }
  },
  "cells": [
    {
      "cell_type": "code",
      "execution_count": null,
      "metadata": {
        "colab": {
          "base_uri": "https://localhost:8080/"
        },
        "id": "APGdpED6--Sl",
        "outputId": "7bda7cfe-4cd7-4e7c-c1a0-d3b18566cd89"
      },
      "outputs": [
        {
          "output_type": "stream",
          "name": "stdout",
          "text": [
            "Masukkan kata yang akan di enkripsi: falling in love with you\n",
            "Masukkan pindah berapa: 3\n",
            "Plaintext: falling in love with you\n",
            "Encrypted text: idoolqj lq oryh zlwk brx\n"
          ]
        }
      ],
      "source": [
        "def encrypt_caesar(text, shift):\n",
        "    encrypted_text = '' #Inisialisasi variabel\n",
        "    for char in text:\n",
        "        if char.isalpha():\n",
        "            # Untuk huruf besar\n",
        "            if char.isupper():\n",
        "                encrypted_text += chr((ord(char) - ord('A') + shift) % 26 + 65)\n",
        "            # Untuk huruf kecil\n",
        "            elif char.islower():\n",
        "                encrypted_text += chr((ord(char) - ord('a') + shift) % 26 + 97)\n",
        "        else:\n",
        "            # Jika bukan huruf, tambahkan langsung\n",
        "            encrypted_text += char\n",
        "    return encrypted_text\n",
        "\n",
        "\n",
        "def decrypt_caesar(text, shift):\n",
        "    return encrypt_caesar(text, -shift)\n",
        "\n",
        "# Contoh penggunaan\n",
        "plaintext = input(\"Masukkan kata yang akan di enkripsi: \")\n",
        "shift = int(input(\"Masukkan pindah berapa: \"))\n",
        "\n",
        "# Enkripsi\n",
        "encrypted_text = encrypt_caesar(plaintext, shift)\n",
        "print(\"Plaintext:\", plaintext)\n",
        "print(\"Encrypted text:\", encrypted_text)"
      ]
    },
    {
      "cell_type": "code",
      "source": [
        "#Mencoba subtitution tetapi random shift\n",
        "import random\n",
        "plaintext = input(\"Masukkan kata yang akan di enkripsi: \")\n",
        "encrypt_caesar(plaintext, random.randint(1, 26))\n"
      ],
      "metadata": {
        "colab": {
          "base_uri": "https://localhost:8080/",
          "height": 53
        },
        "id": "qrqCOQEZELVR",
        "outputId": "fb8a758c-b732-4d09-d607-b1e332b00d6e"
      },
      "execution_count": 15,
      "outputs": [
        {
          "name": "stdout",
          "output_type": "stream",
          "text": [
            "Masukkan kata yang akan di enkripsi: Falling in love with you\n"
          ]
        },
        {
          "output_type": "execute_result",
          "data": {
            "text/plain": [
              "'Bwhhejc ej hkra sepd ukq'"
            ],
            "application/vnd.google.colaboratory.intrinsic+json": {
              "type": "string"
            }
          },
          "metadata": {},
          "execution_count": 15
        }
      ]
    },
    {
      "cell_type": "code",
      "source": [
        "!pip install nltk"
      ],
      "metadata": {
        "colab": {
          "base_uri": "https://localhost:8080/"
        },
        "id": "fBbem0TfA6aD",
        "outputId": "55d57f4f-ba01-45b2-e977-e7093b045a5e"
      },
      "execution_count": null,
      "outputs": [
        {
          "output_type": "stream",
          "name": "stdout",
          "text": [
            "Requirement already satisfied: nltk in /usr/local/lib/python3.10/dist-packages (3.8.1)\n",
            "Requirement already satisfied: click in /usr/local/lib/python3.10/dist-packages (from nltk) (8.1.7)\n",
            "Requirement already satisfied: joblib in /usr/local/lib/python3.10/dist-packages (from nltk) (1.3.2)\n",
            "Requirement already satisfied: regex>=2021.8.3 in /usr/local/lib/python3.10/dist-packages (from nltk) (2023.12.25)\n",
            "Requirement already satisfied: tqdm in /usr/local/lib/python3.10/dist-packages (from nltk) (4.66.2)\n"
          ]
        }
      ]
    },
    {
      "cell_type": "code",
      "source": [
        "import nltk\n",
        "from nltk.corpus import words\n",
        "from nltk.tokenize import word_tokenize\n",
        "from nltk.tokenize import word_tokenize\n",
        "\n",
        "# Mengunduh kamus bahasa Inggris\n",
        "nltk.download('words')\n",
        "english_words = set(words.words())"
      ],
      "metadata": {
        "colab": {
          "base_uri": "https://localhost:8080/"
        },
        "id": "Elj9Hbr3Akhg",
        "outputId": "5ab82041-b870-49fb-f8fe-7c7cafdeac1a"
      },
      "execution_count": 12,
      "outputs": [
        {
          "output_type": "stream",
          "name": "stderr",
          "text": [
            "[nltk_data] Downloading package words to /root/nltk_data...\n",
            "[nltk_data]   Package words is already up-to-date!\n",
            "[nltk_data] Downloading package punkt to /root/nltk_data...\n",
            "[nltk_data]   Unzipping tokenizers/punkt.zip.\n"
          ]
        }
      ]
    },
    {
      "cell_type": "code",
      "source": [
        "def decrypt_caesar(text, shift):\n",
        "    decrypted_text = ''\n",
        "    for char in text:\n",
        "        if char.isalpha():\n",
        "            if char.islower():\n",
        "                decrypted_text += chr((ord(char) - 97 - shift) % 26 + ord('a'))\n",
        "            elif char.isupper():\n",
        "                decrypted_text += chr((ord(char) - 65 - shift) % 26 + ord('A'))\n",
        "        else:\n",
        "            decrypted_text += char\n",
        "    return decrypted_text\n",
        "\n",
        "def hack(ciphertext):\n",
        "    for i in range(26):\n",
        "        plaintext = decrypt_caesar(ciphertext, i)\n",
        "        english_words_count = sum(1 for word in plaintext.split() if word.lower() in english_words)\n",
        "\n",
        "        # Berhenti jika lebih dari setengah kata dalam teks terdekripsi teridentifikasi sebagai bahasa Inggris\n",
        "        if english_words_count >= len(plaintext.split()) / 2:\n",
        "            print(\"Shift key:\", i)\n",
        "            return plaintext\n",
        "\n",
        "ciphertext = input(\"Masukkan ciphertext: \")\n",
        "hack(ciphertext)"
      ],
      "metadata": {
        "colab": {
          "base_uri": "https://localhost:8080/",
          "height": 70
        },
        "id": "8WBjKAbIBBhY",
        "outputId": "6ac8cb46-f88a-4f15-faca-25c53e9a6e4e"
      },
      "execution_count": 21,
      "outputs": [
        {
          "output_type": "stream",
          "name": "stdout",
          "text": [
            "Masukkan ciphertext: Bwhhejc ej hkra sepd ukq\n",
            "Shift key: 22\n"
          ]
        },
        {
          "output_type": "execute_result",
          "data": {
            "text/plain": [
              "'Falling in love with you'"
            ],
            "application/vnd.google.colaboratory.intrinsic+json": {
              "type": "string"
            }
          },
          "metadata": {},
          "execution_count": 21
        }
      ]
    }
  ]
}