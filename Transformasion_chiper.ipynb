{
  "nbformat": 4,
  "nbformat_minor": 0,
  "metadata": {
    "colab": {
      "provenance": []
    },
    "kernelspec": {
      "name": "python3",
      "display_name": "Python 3"
    },
    "language_info": {
      "name": "python"
    }
  },
  "cells": [
    {
      "cell_type": "code",
      "execution_count": null,
      "metadata": {
        "id": "JRPuzpUe96S-"
      },
      "outputs": [],
      "source": [
        "import math"
      ]
    },
    {
      "cell_type": "code",
      "source": [
        "def encryptMessage(key, message):\n",
        "    cipherText = [\"\"] * key\n",
        "    for col in range(key):\n",
        "        pointer = col\n",
        "        while pointer < len(message):\n",
        "            cipherText[col] += message[pointer]\n",
        "            pointer += key\n",
        "    return \"\".join(cipherText)"
      ],
      "metadata": {
        "id": "gkngXkLm-JfB"
      },
      "execution_count": null,
      "outputs": []
    },
    {
      "cell_type": "code",
      "source": [
        "def decryptMessage(key, message):\n",
        "    numCols = math.ceil(len(message) / key)\n",
        "    numRows = key\n",
        "    numShadedBoxes = (numCols * numRows) - len(message)\n",
        "    plainText = [\"\"] * numCols\n",
        "    col = 0\n",
        "    row = 0\n",
        "\n",
        "    for symbol in message:\n",
        "        plainText[col] += symbol\n",
        "        col += 1\n",
        "\n",
        "        if (\n",
        "            (col == numCols)\n",
        "            or (col == numCols - 1)\n",
        "            and (row >= numRows - numShadedBoxes)\n",
        "        ):\n",
        "            col = 0\n",
        "            row += 1\n",
        "\n",
        "    return \"\".join(plainText)"
      ],
      "metadata": {
        "id": "nuD2GhGl-MTq"
      },
      "execution_count": null,
      "outputs": []
    },
    {
      "cell_type": "code",
      "source": [
        "message = input(\"Enter message: \")\n",
        "key = int(input(\"Enter key [2-%s]: \" % (len(message) - 1)))\n",
        "mode = input(\"Encryption/Decryption [e/d]: \")\n",
        "\n",
        "if mode.lower().startswith(\"e\"):\n",
        "    text = encryptMessage(key, message)\n",
        "elif mode.lower().startswith(\"d\"):\n",
        "    text = decryptMessage(key, message)\n",
        "\n",
        "# Append pipe symbol (vertical bar) to identify spaces at the end.\n",
        "print(\"Output:\\n%s\" % (text))"
      ],
      "metadata": {
        "colab": {
          "base_uri": "https://localhost:8080/"
        },
        "id": "mQdjMu1_-SWE",
        "outputId": "c7f0b0e6-7cfe-4521-a358-99ad083d0c6f"
      },
      "execution_count": null,
      "outputs": [
        {
          "output_type": "stream",
          "name": "stdout",
          "text": [
            "Enter message: h ongah dlabuolan\n",
            "Enter key [2-16]: 4\n",
            "Encryption/Decryption [e/d]: d\n",
            "Output:\n",
            "halo halo bandung\n"
          ]
        }
      ]
    },
    {
      "cell_type": "markdown",
      "source": [
        "O(n) = n"
      ],
      "metadata": {
        "id": "n-fIocCX_CBe"
      }
    }
  ]
}